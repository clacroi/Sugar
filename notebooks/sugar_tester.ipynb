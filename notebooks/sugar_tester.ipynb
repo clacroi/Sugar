{
 "cells": [
  {
   "cell_type": "markdown",
   "metadata": {},
   "source": [
    "# Sugar Tester"
   ]
  },
  {
   "cell_type": "markdown",
   "metadata": {},
   "source": [
    "The aim of this notebook is to provide simple tests and example code for Sugar mais classes and features :\n",
    "* Trainer / SGDTrainer\n",
    "* Solver / SGDSolver\n",
    "* NetworkEvaluator (no current evaluator implementations)\n",
    "\n",
    "These code snippets have the same purpose than test functions. They are dedicated to test features difficult to test without real data or are complementary tests for already tested features.\n",
    "\n",
    "**Hence, this notebook cells should be executed after any modifications of Sugar core features**\n",
    "\n",
    "**Users should add code test snippets for the classes heritated from Trainer / Solver / NetworkEvaluator they implement**"
   ]
  },
  {
   "cell_type": "code",
   "execution_count": null,
   "metadata": {},
   "outputs": [],
   "source": [
    "import sys\n",
    "sys.path.append('/home/corentin/software/caffe-segnet-cudnn7/python/')\n",
    "from pathlib import Path\n",
    "\n",
    "from datum.datasets import Dataset\n",
    "from datum.readers import SegmentationDatasetReader\n",
    "\n",
    "camVid2_labels = ['Sky', 'Other', 'Unlabelled']\n",
    "colors = {'Sky': [128,128,128], 'Building': [128,0,0], 'Pole': [192,192,128],\n",
    "          'Road_marking': [255,69,0], 'Road': [128,64,128], 'Pavement': [60,40,222],\n",
    "          'Tree': [128,128,0], 'SignSymbol': [192,128,128], 'Fence': [64,64,128],\n",
    "          'Vehicle': [64,0,128], 'Pedestrian': [64,64,0], 'Bicyclist': [0,128,192],\n",
    "          'Unlabelled': [0,0,0], 'Other': [255,255,255]}"
   ]
  },
  {
   "cell_type": "markdown",
   "metadata": {},
   "source": [
    "## Test SGD solver"
   ]
  },
  {
   "cell_type": "code",
   "execution_count": null,
   "metadata": {},
   "outputs": [],
   "source": [
    "from sugar.solvers import SGDSolver\n",
    "\n",
    "solver_prototxt = '/home/corentin/tmp/test_solver.prototxt'\n",
    "solver = SGDSolver.from_caffe_solver_protoxt(solver_prototxt)\n",
    "print(solver.to_dict())"
   ]
  },
  {
   "cell_type": "markdown",
   "metadata": {},
   "source": [
    "## Test Sugar SGD Trainer"
   ]
  },
  {
   "cell_type": "markdown",
   "metadata": {},
   "source": [
    "### Test trainer with automatic data load"
   ]
  },
  {
   "cell_type": "code",
   "execution_count": null,
   "metadata": {},
   "outputs": [],
   "source": [
    "import caffe\n",
    "from datum.feeders.segnet_feeder import SegnetFeeder\n",
    "from sugar.trainers import SGDTrainer\n",
    "from sugar.solvers import SGDSolver\n",
    "\n",
    "# 1\\ Construct datasets\n",
    "# Load CamVid test segmentation dataset\n",
    "images_dir = Path('/home/corentin/software/SegNet-Tutorial/CamVid_352x480_gs_1class/test/')\n",
    "segmaps_dir = Path('/home/corentin/software/SegNet-Tutorial/CamVid_352x480_gs_1class/testannot/')\n",
    "reader = SegmentationDatasetReader('png', 'png',\n",
    "                                   images_dir=images_dir,\n",
    "                                   segmaps_dir=segmaps_dir)\n",
    "test_dataset = Dataset()\n",
    "reader.feed(test_dataset)\n",
    "\n",
    "# Load CamVid train segmentation dataset\n",
    "images_dir = Path('/home/corentin/software/SegNet-Tutorial/CamVid_352x480_gs_1class/train/')\n",
    "segmaps_dir = Path('/home/corentin/software/SegNet-Tutorial/CamVid_352x480_gs_1class/trainannot/')\n",
    "reader = SegmentationDatasetReader('png', 'png',\n",
    "                                   images_dir=images_dir,\n",
    "                                   segmaps_dir=segmaps_dir)\n",
    "train_dataset = Dataset()\n",
    "reader.feed(train_dataset)\n",
    "\n",
    "# 2\\ Construct solver, trainer and train\n",
    "root_dir = Path('/home/corentin/experiments/segmentation/trainings/020420/custom_segnet_basic_352x480_nolrn_gs_no_batchnorm/')\n",
    "train_net_prototxt = Path('/home/corentin/experiments/segmentation/trainings/020420/custom_segnet_basic_352x480_nolrn_gs_no_batchnorm/train.prototxt')\n",
    "solver_prototxt = Path('/home/corentin/experiments/segmentation/trainings/020420/custom_segnet_basic_352x480_nolrn_gs_no_batchnorm/solver.prototxt')\n",
    "solver = SGDSolver.from_caffe_solver_protoxt(solver_prototxt)\n",
    "\n",
    "trainer = SGDTrainer(root_dir,\n",
    "                     train_net_prototxt, ['Convolution'],\n",
    "                     train_input_loading_mode = 'AUTOMATIC',\n",
    "                     solver=solver,\n",
    "                     display_interval=5,\n",
    "                     eval_interval=10,\n",
    "                     snapshot_interval=20)\n",
    "results = trainer.train()"
   ]
  },
  {
   "cell_type": "markdown",
   "metadata": {},
   "source": [
    "### Test trainer with custom data load"
   ]
  },
  {
   "cell_type": "code",
   "execution_count": null,
   "metadata": {},
   "outputs": [],
   "source": [
    "import caffe\n",
    "from datum.feeders.segnet_feeder import SegnetFeeder\n",
    "from sugar.trainers import SGDTrainer\n",
    "from sugar.solvers import SGDSolver\n",
    "\n",
    "# 1\\ Construct datasets\n",
    "# Load CamVid test segmentation dataset\n",
    "images_dir = Path('/home/corentin/software/SegNet-Tutorial/CamVid_352x480_gs_1class/test/')\n",
    "segmaps_dir = Path('/home/corentin/software/SegNet-Tutorial/CamVid_352x480_gs_1class/testannot/')\n",
    "reader = SegmentationDatasetReader('png', 'png',\n",
    "                                   images_dir=images_dir,\n",
    "                                   segmaps_dir=segmaps_dir)\n",
    "test_dataset = Dataset()\n",
    "reader.feed(test_dataset)\n",
    "\n",
    "# Load CamVid train segmentation dataset\n",
    "images_dir = Path('/home/corentin/software/SegNet-Tutorial/CamVid_352x480_gs_1class/train/')\n",
    "segmaps_dir = Path('/home/corentin/software/SegNet-Tutorial/CamVid_352x480_gs_1class/trainannot/')\n",
    "reader = SegmentationDatasetReader('png', 'png',\n",
    "                                   images_dir=images_dir,\n",
    "                                   segmaps_dir=segmaps_dir)\n",
    "train_dataset = Dataset()\n",
    "reader.feed(train_dataset)\n",
    "\n",
    "# 2\\ Construct Segnet Feeder\n",
    "net_input_type = 'GRAY'\n",
    "net_input_dim = (12, 1, 352, 480)\n",
    "preprocessing_mode = 'no_preproc'\n",
    "mean_channel = None\n",
    "segnet_train_feeder = SegnetFeeder(dataset = train_dataset,\n",
    "                                   net_input_type = net_input_type,\n",
    "                                   net_input_dim = net_input_dim,\n",
    "                                   preprocessing_mode = preprocessing_mode,\n",
    "                                   mean_channel = mean_channel,\n",
    "                                   gt_segmap_attribute = 'segmap_path',\n",
    "                                   shuffle = True, seed = 42,\n",
    "                                   force_batch_size=True)\n",
    "\n",
    "# 3\\ Construct data feeder, solver, trainer and train\n",
    "root_dir = Path('/home/corentin/experiments/segmentation/trainings/020420/custom_segnet_basic_352x480_nolrn_gs_no_batchnorm_customdataload/')\n",
    "train_net_prototxt = Path('/home/corentin/experiments/segmentation/trainings/020420/custom_segnet_basic_352x480_nolrn_gs_no_batchnorm_customdataload/train.prototxt')\n",
    "solver_prototxt = Path('/home/corentin/experiments/segmentation/trainings/020420/custom_segnet_basic_352x480_nolrn_gs_no_batchnorm_customdataload/solver.prototxt')\n",
    "solver = SGDSolver.from_caffe_solver_protoxt(solver_prototxt)\n",
    "\n",
    "trainer = Trainer(root_dir,\n",
    "                  train_net_prototxt, ['Convolution'],\n",
    "                  train_input_loading_mode = 'CUSTOM',\n",
    "                  train_feeder=segnet_train_feeder,\n",
    "                  solver=solver,\n",
    "                  display_interval=5,\n",
    "                  eval_interval=10,\n",
    "                  snapshot_interval=20)\n",
    "results = trainer.train()"
   ]
  }
 ],
 "metadata": {
  "anaconda-cloud": {},
  "kernelspec": {
   "display_name": "Python 3",
   "language": "python",
   "name": "python3"
  },
  "language_info": {
   "codemirror_mode": {
    "name": "ipython",
    "version": 3
   },
   "file_extension": ".py",
   "mimetype": "text/x-python",
   "name": "python",
   "nbconvert_exporter": "python",
   "pygments_lexer": "ipython3",
   "version": "3.6.9"
  }
 },
 "nbformat": 4,
 "nbformat_minor": 1
}
